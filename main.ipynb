{
 "cells": [
  {
   "cell_type": "markdown",
   "metadata": {},
   "source": [
    "# IMDB Hugging Face movie review sentiment classification with distilbert model with TensorFlow\n",
    "\n",
    "The main purpose of this excercise is to make use of Hugging Face resources to train a model with TensorFlow, to study the implementation details."
   ]
  },
  {
   "cell_type": "code",
   "execution_count": 1,
   "metadata": {},
   "outputs": [
    {
     "name": "stderr",
     "output_type": "stream",
     "text": [
      "c:\\Users\\USER\\.conda\\envs\\tf2\\lib\\site-packages\\tqdm\\auto.py:21: TqdmWarning: IProgress not found. Please update jupyter and ipywidgets. See https://ipywidgets.readthedocs.io/en/stable/user_install.html\n",
      "  from .autonotebook import tqdm as notebook_tqdm\n"
     ]
    }
   ],
   "source": [
    "import tensorflow as tf\n",
    "from datasets import load_dataset\n",
    "from transformers import AutoTokenizer, TFDistilBertModel\n",
    "from tensorflow.keras import layers, models\n",
    "import pandas as pd\n"
   ]
  },
  {
   "cell_type": "code",
   "execution_count": 2,
   "metadata": {},
   "outputs": [
    {
     "data": {
      "text/plain": [
       "[PhysicalDevice(name='/physical_device:CPU:0', device_type='CPU'),\n",
       " PhysicalDevice(name='/physical_device:GPU:0', device_type='GPU')]"
      ]
     },
     "execution_count": 2,
     "metadata": {},
     "output_type": "execute_result"
    }
   ],
   "source": [
    "tf.config.list_physical_devices()"
   ]
  },
  {
   "cell_type": "code",
   "execution_count": null,
   "metadata": {},
   "outputs": [],
   "source": [
    "data = load_dataset(\"ajaykarthick/imdb-movie-reviews\")\n",
    "train_data_raw = data['train']['review']\n",
    "train_labels = data['train']['label']\n",
    "test_data_raw = data['test']['review']\n",
    "test_labels = data['test']['label']"
   ]
  },
  {
   "cell_type": "code",
   "execution_count": 4,
   "metadata": {},
   "outputs": [
    {
     "name": "stdout",
     "output_type": "stream",
     "text": [
      "40000\n",
      "10000\n",
      "[\"Ms Aparna Sen, the maker of Mr & Mrs Iyer, directs this movie about a young girl's struggle to cope with her debilitating condition.<br /><br />Meethi (Konkona Sen) has been an aloof kid ever since childhood and has shown signs of delusion, no one knows why. The dormant tendency however slips out of control, when the job assignment takes her to neighboring Bihar where she's raped by some political goons. The resulting trauma also leads to episodes of manic-depressive psychosis in addition to her schizophrenia. She careens out of control over the years, progressively getting worse and sinking deeper into her private 'world'.<br /><br />The juxtaposition of an 'unsettled' (divorced) elder sister and how her domineering ways make an already bad situation worse, is indicative of what a fine line there is between abnormal and *seemingly normal*. Ms Sen also makes an excellent commentary on the social alienation of such individuals. Social rehab is standard therapy along with all the deadly mind-altering drugs. But what about the poor and the destitute, who're always left to fend for themselves and usually fall by the wayside?<br /><br />The romantic connection between Dr Kunal and Anu was unnecessary. Also the cafeteria scene where Dr Kunal explains to Anu how real their world really is to them, was redundant. Anu should already know all that. The English dialog is a bit awkward at times though the acting compensates for that. Konkona and Shabana prove that their reputation is every bit worth it. Waheeda, Rahul and Shefali play their limited roles very well. <br /><br />Extensive research seems to have been done about this illness, its very evident. But its not clear if MDP can coexist with schizophrenia in the same patient, side-by-side. Also in the early part, Dr Kunal recommends E.C.T (shock therapy) while invalidating the fact that it doesn't work for schizophrenics, only for extreme MDP with suicidal tendencies and other forms of bipolar disorder.<br /><br />The ending of the remarkable story is suggestive of an unknown solution (maybe no solution). The movie could have ended on a nicer note, since worldwide the mentally ill can and do lead balanced and fruitful if not very fulfilling, lives under good medical care.<br /><br />Nonetheless, its an excellent film made with extreme sensitivity to the subject. HATS OFF to Ms Sen! No one in India could've done it better.\", \"I have seen this film only once, on TV, and it has not been repeated. This is strange when you consider the rubbish that is repeated over and over again. Usually horror movies for me are a source of amusement, but this one really scared me.<br /><br />DO NOT READ THE NEXT BIT IF YOU HAVE'NT SEEN THE FILM YET<br /><br />The scariest bit is when the townsfolk pursue the preacher to where his wife lies almost dead (they'd been poisoning her). He asks who the hell are you people anyway. One by one they give their true identities. The girl who was pretending to be deaf in order to corrupt and seduce him says 'I am Lilith, the witch who loved Adam before Eve'.\", \"I was only fourteen when I first saw the Alien movies and I immediately came to like it. Original, terrifying and classic. Sigourney Weaver was the perfect choice for the female hero character and she would have deserved a statuette for her act. In 1979 something everlasting was born than the immortal series continued with a nothing less legendary movie than the first. Alien3 was a different point of view but I think this part was the most stressful and unique of all, this was my favourite. Unfortunately the last one was a failure in many ways. It was strained, illogical with full of meaningless massacres. I didn't like it at all, but I never thought that a worse part would ever be made in the future. Well as it turned out in 2004 I was wrong. Alien vs. Predator was a bad break, and it should have been directed by a more talented director or should have never been made at all. But when I saw Alien vs Predator Requiem I was totally shocked moreover devastated. When I sat down and decided to watch it with full of doubt, even than I had never thought that such a bad movie could be made. Without a screenplay, without a director and without actors I don't understand how can a film be made. Because this film misses these three terms. What you get is a nice massacre show without a story but with a lot of annoying and boring dialogues. Waste of money and waste of time. This movie is rather impudence, than honor to the fans of the both sides (Alien/Predator). Shame!\"]\n",
      "[0, 0, 1]\n"
     ]
    }
   ],
   "source": [
    "print(len(train_data_raw))\n",
    "print(len(test_data_raw))\n",
    "print(train_data_raw[0:3])\n",
    "print(train_labels[0:3])"
   ]
  },
  {
   "cell_type": "code",
   "execution_count": null,
   "metadata": {},
   "outputs": [],
   "source": [
    "tokenizer = AutoTokenizer.from_pretrained('distilbert/distilbert-base-uncased')\n",
    "\n",
    "def tokenize(texts):\n",
    "    return tokenizer(\n",
    "        texts,\n",
    "        padding=True,\n",
    "        truncation=True,\n",
    "        max_length=512, # TODO: 512\n",
    "        return_tensors='tf'\n",
    "    )\n",
    "\n",
    "train_data_raw = tokenize(train_data_raw)\n",
    "test_data_raw = tokenize(test_data_raw)"
   ]
  },
  {
   "cell_type": "code",
   "execution_count": 6,
   "metadata": {},
   "outputs": [
    {
     "name": "stdout",
     "output_type": "stream",
     "text": [
      "<class 'transformers.tokenization_utils_base.BatchEncoding'>\n",
      "Encoding(num_tokens=512, attributes=[ids, type_ids, tokens, offsets, attention_mask, special_tokens_mask, overflowing])\n"
     ]
    }
   ],
   "source": [
    "print(type(train_data_raw))\n",
    "print(train_data_raw[0])"
   ]
  },
  {
   "cell_type": "code",
   "execution_count": null,
   "metadata": {},
   "outputs": [
    {
     "data": {
      "text/plain": [
       "<tf.Tensor: shape=(40000, 512), dtype=int32, numpy=\n",
       "array([[ 101, 5796, 9706, ..., 2064, 1998,  102],\n",
       "       [ 101, 1045, 2031, ...,    0,    0,    0],\n",
       "       [ 101, 1045, 2001, ...,    0,    0,    0],\n",
       "       ...,\n",
       "       [ 101, 1037, 3522, ..., 4962, 4938,  102],\n",
       "       [ 101, 7619, 2442, ...,    0,    0,    0],\n",
       "       [ 101, 2023, 2003, ...,    0,    0,    0]])>"
      ]
     },
     "execution_count": 32,
     "metadata": {},
     "output_type": "execute_result"
    }
   ],
   "source": [
    "# IMPORTANT: check out tokenized data from the dataset\n",
    "# it is stored in the field 'input_ids'\n",
    "train_data_raw['input_ids']"
   ]
  },
  {
   "cell_type": "code",
   "execution_count": null,
   "metadata": {},
   "outputs": [],
   "source": [
    "train_data = tf.data.Dataset.from_tensor_slices(\n",
    "  (\n",
    "    train_data_raw['input_ids'],\n",
    "    train_labels\n",
    "  )\n",
    ").batch(32)\n",
    "\n",
    "test_data = tf.data.Dataset.from_tensor_slices(\n",
    "  (\n",
    "    test_data_raw['input_ids'],\n",
    "    test_labels\n",
    "  )\n",
    ").batch(32)"
   ]
  },
  {
   "cell_type": "code",
   "execution_count": 25,
   "metadata": {},
   "outputs": [
    {
     "data": {
      "text/plain": [
       "(TensorSpec(shape=(None, 512), dtype=tf.int32, name=None),\n",
       " TensorSpec(shape=(None,), dtype=tf.int32, name=None))"
      ]
     },
     "execution_count": 25,
     "metadata": {},
     "output_type": "execute_result"
    }
   ],
   "source": [
    "train_data.element_spec"
   ]
  },
  {
   "cell_type": "code",
   "execution_count": 43,
   "metadata": {},
   "outputs": [
    {
     "name": "stderr",
     "output_type": "stream",
     "text": [
      "Some weights of the PyTorch model were not used when initializing the TF 2.0 model TFDistilBertModel: ['vocab_layer_norm.weight', 'vocab_transform.bias', 'vocab_layer_norm.bias', 'vocab_projector.bias', 'vocab_transform.weight']\n",
      "- This IS expected if you are initializing TFDistilBertModel from a PyTorch model trained on another task or with another architecture (e.g. initializing a TFBertForSequenceClassification model from a BertForPreTraining model).\n",
      "- This IS NOT expected if you are initializing TFDistilBertModel from a PyTorch model that you expect to be exactly identical (e.g. initializing a TFBertForSequenceClassification model from a BertForSequenceClassification model).\n",
      "All the weights of TFDistilBertModel were initialized from the PyTorch model.\n",
      "If your task is similar to the task the model of the checkpoint was trained on, you can already use TFDistilBertModel for predictions without further training.\n"
     ]
    },
    {
     "name": "stdout",
     "output_type": "stream",
     "text": [
      "Model: \"model_7\"\n",
      "_________________________________________________________________\n",
      " Layer (type)                Output Shape              Param #   \n",
      "=================================================================\n",
      " input_8 (InputLayer)        [(None, 512)]             0         \n",
      "                                                                 \n",
      " distilbert_base_layer_7 (Di  (None, 768)              66362880  \n",
      " stilbertBaseLayer)                                              \n",
      "                                                                 \n",
      " dropout_140 (Dropout)       (None, 768)               0         \n",
      "                                                                 \n",
      " dense_7 (Dense)             (None, 1)                 769       \n",
      "                                                                 \n",
      "=================================================================\n",
      "Total params: 66,363,649\n",
      "Trainable params: 769\n",
      "Non-trainable params: 66,362,880\n",
      "_________________________________________________________________\n"
     ]
    }
   ],
   "source": [
    "class DistilbertBaseLayer(tf.keras.layers.Layer):\n",
    "    def __init__(self, trainable: bool = True, **kwargs):\n",
    "        super(DistilbertBaseLayer, self).__init__(**kwargs)\n",
    "        # There are some warnings in the output cells: \"Some weights of the PyTorch model were not used when initializing the TF 2.0 model TFDistilBertModel\"\n",
    "        self.distilbert_model = TFDistilBertModel.from_pretrained('distilbert-base-uncased')\n",
    "        self.distilbert_model.trainable = trainable\n",
    "    def call(self, inputs):\n",
    "        return self.distilbert_model(inputs)[0][:, 0, :]\n",
    "\n",
    "def create_model0(trainable: bool = True):\n",
    "    inputs = tf.keras.Input(shape=512, dtype=tf.int32)\n",
    "    x = inputs\n",
    "    x = DistilbertBaseLayer(trainable)(x)\n",
    "    x = layers.Dropout(0.3)(x)\n",
    "    outputs = layers.Dense(1, activation='sigmoid')(x)\n",
    "    return tf.keras.Model(inputs, outputs)\n",
    "\n",
    "with tf.device('/GPU:0'):\n",
    "    model0 = create_model0(trainable=False)\n",
    "    model0.compile(optimizer='adam', loss='binary_crossentropy', metrics=['accuracy'])\n",
    "\n",
    "model0.summary()\n",
    "\n",
    "# For Windows, a warning about developer mode is displayed. Please turn it on if you want to use symlinks.\n",
    "# https://learn.microsoft.com/en-us/windows/apps/get-started/enable-your-device-for-development"
   ]
  },
  {
   "cell_type": "code",
   "execution_count": null,
   "metadata": {},
   "outputs": [
    {
     "name": "stdout",
     "output_type": "stream",
     "text": [
      "Epoch 1/5\n",
      "125/125 [==============================] - 392s 3s/step - loss: 0.7255 - accuracy: 0.5178 - val_loss: 0.6924 - val_accuracy: 0.5202 - lr: 1.0000e-04\n",
      "Epoch 2/5\n",
      "125/125 [==============================] - 391s 3s/step - loss: 0.7100 - accuracy: 0.5365 - val_loss: 0.6746 - val_accuracy: 0.6199 - lr: 3.1623e-04\n",
      "Epoch 3/5\n",
      "125/125 [==============================] - 389s 3s/step - loss: 0.6740 - accuracy: 0.5792 - val_loss: 0.6358 - val_accuracy: 0.7126 - lr: 0.0010\n",
      "Epoch 4/5\n",
      "125/125 [==============================] - 389s 3s/step - loss: 0.6125 - accuracy: 0.6745 - val_loss: 0.5647 - val_accuracy: 0.7644 - lr: 0.0032\n",
      "Epoch 5/5\n",
      "125/125 [==============================] - 391s 3s/step - loss: 0.5721 - accuracy: 0.6992 - val_loss: 0.4889 - val_accuracy: 0.7837 - lr: 0.0100\n"
     ]
    },
    {
     "data": {
      "text/plain": [
       "<Axes: >"
      ]
     },
     "execution_count": 37,
     "metadata": {},
     "output_type": "execute_result"
    },
    {
     "data": {
      "image/png": "[encoded data removed]",
      "text/plain": [
       "<Figure size 640x480 with 1 Axes>"
      ]
     },
     "metadata": {},
     "output_type": "display_data"
    }
   ],
   "source": [
    "# This training is to find the optimal learning rate for the model\n",
    "\n",
    "history0 = model0.fit(\n",
    "  train_data,\n",
    "  steps_per_epoch=round(0.1 * len(train_data)),\n",
    "  epochs=5,\n",
    "  validation_data=test_data,\n",
    "  validation_steps=round(0.5 * len(test_data)),\n",
    "  callbacks=[\n",
    "    tf.keras.callbacks.LearningRateScheduler(\n",
    "      lambda epoch: 10 ** (-4 + epoch * 0.5) # from 0.0001 to 0.01\n",
    "    )\n",
    "  ]\n",
    ")\n",
    "\n",
    "pd.DataFrame(history0.history).plot()"
   ]
  },
  {
   "cell_type": "code",
   "execution_count": null,
   "metadata": {},
   "outputs": [],
   "source": [
    "# After the training above, it seems that 0.001 is a good learning rate. Let's use it.\n",
    "# Create the model again and perform training with more data.\n",
    "\n",
    "with tf.device('/GPU:0'):\n",
    "    model0 = create_model0(trainable=False)\n",
    "    model0.compile(optimizer=tf.keras.optimizers.Adam(learning_rate=0.001), loss='binary_crossentropy', metrics=['accuracy'])\n",
    "\n",
    "history0 = model0.fit(\n",
    "  train_data.repeat(), # is repeat neccessary here?\n",
    "  steps_per_epoch=round(0.25 * len(train_data)),\n",
    "  epochs=5,\n",
    "  validation_data=test_data,\n",
    "  validation_steps=round(0.5 * len(test_data)),\n",
    ")\n",
    "\n",
    "pd.DataFrame(history0.history).plot()"
   ]
  },
  {
   "cell_type": "code",
   "execution_count": 48,
   "metadata": {},
   "outputs": [
    {
     "name": "stdout",
     "output_type": "stream",
     "text": [
      "WARNING:tensorflow:Skipping full serialization of Keras layer <keras.layers.core.dropout.Dropout object at 0x00000214F2E6C910>, because it is not built.\n",
      "WARNING:tensorflow:Skipping full serialization of Keras layer <keras.layers.core.dropout.Dropout object at 0x00000214F2E55F70>, because it is not built.\n",
      "WARNING:tensorflow:Skipping full serialization of Keras layer <keras.layers.core.dropout.Dropout object at 0x00000214F2E90550>, because it is not built.\n",
      "WARNING:tensorflow:Skipping full serialization of Keras layer <keras.layers.core.dropout.Dropout object at 0x00000214F2F45F70>, because it is not built.\n",
      "WARNING:tensorflow:Skipping full serialization of Keras layer <keras.layers.core.dropout.Dropout object at 0x00000214F3FE2A30>, because it is not built.\n",
      "WARNING:tensorflow:Skipping full serialization of Keras layer <keras.layers.core.dropout.Dropout object at 0x00000214F2F96CD0>, because it is not built.\n"
     ]
    },
    {
     "name": "stderr",
     "output_type": "stream",
     "text": [
      "WARNING:absl:Found untraced functions such as serving, embeddings_layer_call_fn, embeddings_layer_call_and_return_conditional_losses, transformer_layer_call_fn, transformer_layer_call_and_return_conditional_losses while saving (showing 5 of 165). These functions will not be directly callable after loading.\n"
     ]
    },
    {
     "name": "stdout",
     "output_type": "stream",
     "text": [
      "INFO:tensorflow:Assets written to: checkpoint/distilbert-base-uncased-0\\assets\n"
     ]
    },
    {
     "name": "stderr",
     "output_type": "stream",
     "text": [
      "INFO:tensorflow:Assets written to: checkpoint/distilbert-base-uncased-0\\assets\n"
     ]
    }
   ],
   "source": [
    "model.save(\"checkpoint/distilbert-base-uncased-0\")"
   ]
  }
 ],
 "metadata": {
  "kernelspec": {
   "display_name": "tf2",
   "language": "python",
   "name": "python3"
  },
  "language_info": {
   "codemirror_mode": {
    "name": "ipython",
    "version": 3
   },
   "file_extension": ".py",
   "mimetype": "text/x-python",
   "name": "python",
   "nbconvert_exporter": "python",
   "pygments_lexer": "ipython3",
   "version": "3.9.20"
  }
 },
 "nbformat": 4,
 "nbformat_minor": 2
}
